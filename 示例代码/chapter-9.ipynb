{
 "cells": [
  {
   "cell_type": "markdown",
   "id": "a831c448",
   "metadata": {},
   "source": [
    "### 示例9-1"
   ]
  },
  {
   "cell_type": "code",
   "execution_count": null,
   "id": "03129256",
   "metadata": {},
   "outputs": [],
   "source": [
    "import folium\n",
    "tiles = 'https://server.arcgisonline.com/ArcGIS/rest/services/\\\n",
    "World_Imagery/MapServer/tile/{z}/{y}/{x}'\n",
    "attr = 'ArcGIS online全球影像数据'\n",
    "m = folium.Map(location=[31.5, 121.5],\n",
    "              tiles=tiles,\n",
    "              attr=attr,\n",
    "              zoom_start=10,\n",
    "              width = 600,\n",
    "              height = 400)\n",
    "m"
   ]
  },
  {
   "cell_type": "markdown",
   "id": "63af3298",
   "metadata": {},
   "source": [
    "### 示例9-2"
   ]
  },
  {
   "cell_type": "code",
   "execution_count": null,
   "id": "d484f8ea",
   "metadata": {},
   "outputs": [],
   "source": [
    "import folium\n",
    "from folium.plugins import MiniMap\n",
    "m = folium.Map(location=(30, 120), \n",
    "              width = 600,\n",
    "              height = 400,\n",
    "              zoom_start=10)\n",
    "minimap = MiniMap(toggle_display=True)\n",
    "m.add_child(minimap)\n",
    "m"
   ]
  },
  {
   "cell_type": "markdown",
   "id": "405a9da7",
   "metadata": {},
   "source": [
    "### 示例9-3"
   ]
  },
  {
   "cell_type": "code",
   "execution_count": null,
   "id": "d81a963b",
   "metadata": {},
   "outputs": [],
   "source": [
    "import folium\n",
    "from folium.plugins import DualMap\n",
    "m = DualMap(location=(30,120),\n",
    "            zoom_start=8)\n",
    "#创建高德影像Tile图层并添加m1控件\n",
    "folium.TileLayer(\n",
    "    tiles = 'http://webst01.is.autonavi.com/appmaptile?style=6&x={x}&y={y}&z={z}',\n",
    "    attr=\"高德影像\",\n",
    ").add_to(m.m1)\n",
    "#创建高德地图Tile图层并添加m2控件\n",
    "folium.TileLayer(\n",
    "    tiles = 'http://webst01.is.autonavi.com/appmaptile?style=7&x={x}&y={y}&z={z}',\n",
    "    attr=\"高德地图\",\n",
    ").add_to(m.m2)\n",
    "m"
   ]
  },
  {
   "cell_type": "markdown",
   "id": "767d4541",
   "metadata": {},
   "source": [
    "### 示例9-4"
   ]
  },
  {
   "cell_type": "code",
   "execution_count": null,
   "id": "6760b862",
   "metadata": {},
   "outputs": [],
   "source": [
    "import folium\n",
    "from folium import Marker,CircleMarker,Circle\n",
    "from folium import PolyLine,Polygon,Rectangle\n",
    "\n",
    "tiles = 'https://server.arcgisonline.com/ArcGIS/rest/services/\\\n",
    "World_Terrain_Base/MapServer/tile/{z}/{y}/{x}'\n",
    "attr = 'ArcGIS online World Terrain Base数据'\n",
    "m = folium.Map(width = 600,\n",
    "               height = 400,\n",
    "               tiles=tiles,\n",
    "               attr=attr)\n",
    "m.fit_bounds([(26,105),(28,108)])\n",
    "\n",
    "marker = Marker(location = (26.24,107.51)) \n",
    "marker.add_to(m)\n",
    "circleMarker = CircleMarker(location = (27.73,106.91),radius=5)\n",
    "circleMarker.add_to(m)\n",
    "circle = Circle(location = (26.60,106.69),radius=10000)\n",
    "circle.add_to(m)\n",
    "polyLine = PolyLine(locations = ([[26.76,105.78],\n",
    "                                  [27.35,106.39],\n",
    "                                  [27.43,107.54]],\n",
    "                                 [[26.23,106.15],\n",
    "                                  [26.28,107.04],\n",
    "                                  [27.05,107.69]]))\n",
    "polyLine.add_to(m)\n",
    "polygon = Polygon(locations = ([27.85, 105.91],\n",
    "                               [27.48, 105.55],\n",
    "                               [27.22, 106.06],\n",
    "                               [27.60, 106.11]))\n",
    "polygon.add_to(m)\n",
    "rectangle = Rectangle(bounds = ([27.24,107.78],[27.65,108.38]))\n",
    "rectangle.add_to(m)\n",
    "m"
   ]
  },
  {
   "cell_type": "markdown",
   "id": "c1541ab2",
   "metadata": {},
   "source": [
    "### 示例9-5"
   ]
  },
  {
   "cell_type": "code",
   "execution_count": null,
   "id": "162ed9d6",
   "metadata": {},
   "outputs": [],
   "source": [
    "import folium\n",
    "from folium.plugins import AntPath,PolyLineOffset,SemiCircle,BoatMarker\n",
    "tiles = 'https://server.arcgisonline.com/ArcGIS/rest/services/\\\n",
    "World_Terrain_Base/MapServer/tile/{z}/{y}/{x}'\n",
    "attr = 'ArcGIS online World Terrain Base数据'\n",
    "m = folium.Map(width = 600,\n",
    "              height = 400,\n",
    "              tiles=tiles,\n",
    "              attr=attr)\n",
    "m.fit_bounds([(26,105),(28,108)])\n",
    "\n",
    "locations = ([27.06,106.04],\n",
    "          [27.20,106.61],\n",
    "          [27.45,107.15],\n",
    "          [27.50,107.90])\n",
    "AntPath(locations=locations).add_to(m)\n",
    "PolyLineOffset(locations=locations,offset=10).add_to(m)\n",
    "BoatMarker(location=(26.60, 106.69),heading=50,color=\"red\").add_to(m)\n",
    "SemiCircle(location=(27.73, 106.91),radius=50000,start_angle=0,stop_angle=-150).add_to(m)\n",
    "m"
   ]
  },
  {
   "cell_type": "markdown",
   "id": "bda0584a",
   "metadata": {},
   "source": [
    "### 示例9-6"
   ]
  },
  {
   "cell_type": "code",
   "execution_count": null,
   "id": "ec09fd9d",
   "metadata": {},
   "outputs": [],
   "source": [
    "import folium\n",
    "from folium import Icon\n",
    "tiles = 'https://server.arcgisonline.com/ArcGIS/rest/services/\\\n",
    "World_Terrain_Base/MapServer/tile/{z}/{y}/{x}'\n",
    "attr = 'ArcGIS online World Terrain Base数据'\n",
    "m = folium.Map(width = 600,\n",
    "              height = 400,\n",
    "              tiles=tiles,\n",
    "              attr=attr)\n",
    "m.fit_bounds([(26,105),(28,108)])\n",
    "\n",
    "icon1 = Icon(color=\"green\",\n",
    "           prefix=\"glyphicon\",\n",
    "           icon=\"camera\",\n",
    "           icon_color=\"white\")\n",
    "icon2 = Icon(color=\"blue\",\n",
    "           prefix=\"fa\",\n",
    "           icon=\"anchor\",\n",
    "           icon_color=\"white\")\n",
    "Marker(location=(26.60, 106.69),\n",
    "       icon=icon1,\n",
    "       ).add_to(m)\n",
    "Marker(location=(27.73, 106.91),\n",
    "       icon=icon2,\n",
    "       ).add_to(m)\n",
    "m"
   ]
  },
  {
   "cell_type": "markdown",
   "id": "2c9ccacf",
   "metadata": {},
   "source": [
    "### 示例9-7"
   ]
  },
  {
   "cell_type": "code",
   "execution_count": null,
   "id": "7c098af1",
   "metadata": {},
   "outputs": [],
   "source": [
    "import folium\n",
    "from folium import PolyLine,Polygon\n",
    "tiles = 'https://server.arcgisonline.com/ArcGIS/rest/services/\\\n",
    "World_Terrain_Base/MapServer/tile/{z}/{y}/{x}'\n",
    "attr = 'ArcGIS online World Terrain Base数据'\n",
    "m = folium.Map(width = 600,\n",
    "              height = 400,\n",
    "              tiles=tiles,\n",
    "              attr=attr)\n",
    "m.fit_bounds([(26,105),(28,108)])\n",
    "\n",
    "locations = ([27.06,106.04],[27.20,106.61],[27.45,107.15],[27.50,107.90])\n",
    "PolyLine(locations=locations,\n",
    "        color=\"red\",\n",
    "        weight=3,\n",
    "        dash_array=\"4 8\").add_to(m)\n",
    "locations = ([27.85, 105.91],[27.48, 105.55],[27.22, 106.06],[27.60, 106.11])\n",
    "Polygon(locations=locations,\n",
    "       dash_array=\"4\",\n",
    "       fill_color=\"blue\").add_to(m)         \n",
    "m"
   ]
  },
  {
   "cell_type": "markdown",
   "id": "333a119e",
   "metadata": {},
   "source": [
    "### 示例9-8"
   ]
  },
  {
   "cell_type": "code",
   "execution_count": null,
   "id": "251b10d0",
   "metadata": {},
   "outputs": [],
   "source": [
    "import folium\n",
    "from folium import Marker,PolyLine,Polygon\n",
    "tiles = 'https://server.arcgisonline.com/ArcGIS/rest/services/\\\n",
    "World_Terrain_Base/MapServer/tile/{z}/{y}/{x}'\n",
    "attr = 'ArcGIS online World Terrain Base数据'\n",
    "m = folium.Map(width = 600,\n",
    "              height = 400,\n",
    "              tiles=tiles,\n",
    "              attr=attr)\n",
    "m.fit_bounds([(26,105),(28,108)])\n",
    "\n",
    "Marker(location=(26.60, 106.69),\n",
    "       popup=\"<h1 style='color:blue'>Marker<h1>\",\n",
    "       tooltip=\"这是点要素\").add_to(m)\n",
    "locations = ([27.06,106.04],[27.20,106.61],[27.45,107.15],[27.50,107.90])\n",
    "PolyLine(locations=locations,\n",
    "         popup=\"<h2 style='color:green'>PolyLine</h2>\",\n",
    "         tooltip=\"这是线要素\").add_to(m)\n",
    "locations = ([27.85, 105.91],[27.48, 105.55],[27.22, 106.06],[27.60, 106.11])\n",
    "Polygon(locations=locations,\n",
    "        fill_color=\"blue\",\n",
    "        popup=\"<h3 style='color:red'>Polygon<h3>\",\n",
    "        tooltip=\"这是多边形要素\").add_to(m)\n",
    "m"
   ]
  },
  {
   "cell_type": "markdown",
   "id": "77f80e5d",
   "metadata": {},
   "source": [
    "### 示例9-9"
   ]
  },
  {
   "cell_type": "code",
   "execution_count": null,
   "id": "9ad56322",
   "metadata": {},
   "outputs": [],
   "source": [
    "import folium\n",
    "from folium import Marker,PolyLine,Polygon\n",
    "from folium import FeatureGroup\n",
    "m = folium.Map(width=600,height=400,tiles = \"Stamenterrain\")\n",
    "m.fit_bounds([(26,105),(28,108)])\n",
    "layer = FeatureGroup(name='矢量要素符号图层', control=True)\n",
    "Marker(location=(26.60, 106.69)).add_to(layer)\n",
    "locations = ([27.06,106.04],[27.20,106.61],[27.45,107.15],[27.50,107.90])\n",
    "PolyLine(locations=locations,color = 'red').add_to(layer)\n",
    "locations = ([27.85, 105.91],[27.48, 105.55],[27.22, 106.06],[27.60, 106.11])\n",
    "Polygon(locations=locations,fill_color=\"magenta\").add_to(layer)\n",
    "layer.add_to(m)\n",
    "folium.LayerControl().add_to(m)\n",
    "m"
   ]
  },
  {
   "cell_type": "markdown",
   "id": "6111cc72",
   "metadata": {},
   "source": [
    "### 示例9-10"
   ]
  },
  {
   "cell_type": "code",
   "execution_count": null,
   "id": "44b6b094",
   "metadata": {},
   "outputs": [],
   "source": [
    "import folium\n",
    "from geojson import MultiPoint\n",
    "from folium.features import GeoJson\n",
    "tiles = 'https://server.arcgisonline.com/ArcGIS/rest/services/\\\n",
    "World_Terrain_Base/MapServer/tile/{z}/{y}/{x}'\n",
    "attr = 'ArcGIS online World Terrain Base数据'\n",
    "m = folium.Map(width = 600,\n",
    "              height = 400,\n",
    "              tiles=tiles,\n",
    "              attr=attr)\n",
    "m.fit_bounds([(26,105),(28,108)])\n",
    "multipoint = MultiPoint([[107.51,26.24], \n",
    "                    [106.91,27.73],\n",
    "                    [106.69,26.60]])\n",
    "GeoJson(data=multipoint).add_to(m)\n",
    "m"
   ]
  },
  {
   "cell_type": "markdown",
   "id": "0878bfbe",
   "metadata": {},
   "source": [
    "### 示例9-11"
   ]
  },
  {
   "cell_type": "code",
   "execution_count": null,
   "id": "c4e904b1",
   "metadata": {},
   "outputs": [],
   "source": [
    "import folium\n",
    "from folium import Circle\n",
    "from folium.features import GeoJson\n",
    "tiles = 'https://server.arcgisonline.com/ArcGIS/rest/services/\\\n",
    "World_Terrain_Base/MapServer/tile/{z}/{y}/{x}'\n",
    "attr = 'ArcGIS online World Terrain Base'\n",
    "m = folium.Map(width = 600,\n",
    "              height = 400,\n",
    "              tiles=tiles,\n",
    "              attr=attr)\n",
    "geojson = \"https://d2ad6b4ur7yvpq.cloudfront.net/\\\n",
    "naturalearth-3.3.0/ne_10m_airports.geojson\"\n",
    "circle = Circle(radius=5000)\n",
    "GeoJson(data=geojson,marker=circle).add_to(m)\n",
    "m"
   ]
  },
  {
   "cell_type": "markdown",
   "id": "f5db5c87",
   "metadata": {},
   "source": [
    "### 示例9-12"
   ]
  },
  {
   "cell_type": "code",
   "execution_count": null,
   "id": "e9f2cdbf",
   "metadata": {},
   "outputs": [],
   "source": [
    "import folium\n",
    "import geopandas as gpd\n",
    "from folium.features import GeoJson\n",
    "m = folium.Map([40, -110], \n",
    "               width = 600,height = 400,\n",
    "               zoom_start=3)\n",
    "def style_function(feature):\n",
    "    style = {}\n",
    "    if feature[\"properties\"][\"CITY_NAME\"] == \"Washington\":\n",
    "        style = {\"radius\":10,\"fillColor\":\"red\",\"fillOpacity\":1}\n",
    "    return style\n",
    "states_gdf = gpd.read_file(r'c:\\data\\USA\\STATES.shp')\n",
    "GeoJson(data=states_gdf).add_to(m)\n",
    "capitals_gdf = gpd.read_file(r'c:\\data\\USA\\CAPITALS.shp')\n",
    "circleMarker = folium.CircleMarker(radius=5,\n",
    "                             fill_color=\"orange\",\n",
    "                             fill_opacity=1,\n",
    "                             color=\"black\",\n",
    "                             weight=1)\n",
    "GeoJson(data=capitals_gdf,\n",
    "        style_function=style_function,\n",
    "        marker=circleMarker).add_to(m)\n",
    "m"
   ]
  },
  {
   "cell_type": "markdown",
   "id": "388b2a60",
   "metadata": {},
   "source": [
    "### 示例9-13"
   ]
  },
  {
   "cell_type": "code",
   "execution_count": null,
   "id": "daa06b06",
   "metadata": {},
   "outputs": [],
   "source": [
    "import folium\n",
    "import geopandas as gpd\n",
    "from folium.features import GeoJson\n",
    "from folium.plugins.pattern import StripePattern,CirclePattern\n",
    "gdf = gpd.GeoDataFrame.from_file(r'c:\\data\\USA\\STATES.shp')\n",
    "m = folium.Map([40, -110], \n",
    "               width = 600,height = 400,\n",
    "               zoom_start=3)\n",
    "stripes = StripePattern(angle=-45,\n",
    "                   weight=3).add_to(m)\n",
    "circles = CirclePattern(width=10, \n",
    "                   height=10, \n",
    "                   radius=2).add_to(m)\n",
    "\n",
    "def style_function(feature):\n",
    "    style = {}\n",
    "    if feature[\"properties\"][\"STATE_NAME\"] == \"Colorado\":\n",
    "        style[\"fillPattern\"] = stripes\n",
    "        style[\"fillOpacity\"] = 1\n",
    "    if feature[\"properties\"][\"STATE_NAME\"] == \"Kansas\":\n",
    "        style[\"fillPattern\"] = circles\n",
    "        style[\"fillOpacity\"] = 1\n",
    "    return style\n",
    "\n",
    "geojson = GeoJson(data=gdf,\n",
    "                style_function=style_function)\n",
    "geojson.add_to(m)\n",
    "m"
   ]
  },
  {
   "cell_type": "markdown",
   "id": "d2bbe3c2",
   "metadata": {},
   "source": [
    "### 示例9-14"
   ]
  },
  {
   "cell_type": "code",
   "execution_count": null,
   "id": "6b005ffb",
   "metadata": {},
   "outputs": [],
   "source": [
    "from IPython.display import display\n",
    "import branca.colormap as cm\n",
    "stepColormap = cm.StepColormap(\n",
    "    colors =[\"blue\",\"green\",\"yellow\",\"red\"],\n",
    "    index=[0,20,60,80,100],\n",
    "    vmin=0,\n",
    "    vmax=100)\n",
    "print(stepColormap(50))\n",
    "\n",
    "linearColormap = cm.LinearColormap(\n",
    "    colors = [\"blue\",\"green\",\"yellow\",\"red\"],\n",
    "    vmin=0,\n",
    "    vmax=100)\n",
    "print(linearColormap(50))"
   ]
  },
  {
   "cell_type": "markdown",
   "id": "1096022a",
   "metadata": {},
   "source": [
    "### 示例9-15"
   ]
  },
  {
   "cell_type": "code",
   "execution_count": null,
   "id": "97e1e0e3",
   "metadata": {},
   "outputs": [],
   "source": [
    "import geopandas as gpd\n",
    "from folium.features import GeoJson\n",
    "import folium\n",
    "import branca\n",
    "gdf = gpd.GeoDataFrame.from_file(r'c:\\data\\USA\\STATES.shp')\n",
    "m = folium.Map([40, -110], \n",
    "               width = 600,height = 400,\n",
    "               zoom_start=3)\n",
    "minimum, maximum = gdf[\"POP90_SQMI\"].quantile([0.05, 0.95])\n",
    "colormap = branca.colormap.LinearColormap(\n",
    "    colors=[\"yellow\", \"red\"],\n",
    "    vmin=round(minimum,2),\n",
    "    vmax=round(maximum,2))\n",
    "colormap.caption = \"Population Density in the United States\"\n",
    "def style_function(feature):\n",
    "    style = {\n",
    "        \"fillColor\": colormap(feature[\"properties\"][\"POP90_SQMI\"]),\n",
    "        \"color\": \"black\",\n",
    "        \"weight\": 2,\n",
    "        \"fillOpacity\": 0.9,\n",
    "    }\n",
    "    return style\n",
    "GeoJson(data=gdf,\n",
    "        style_function=style_function).add_to(m)\n",
    "colormap.add_to(m)\n",
    "m"
   ]
  },
  {
   "cell_type": "markdown",
   "id": "56bf1467",
   "metadata": {},
   "source": [
    "### 示例9-16"
   ]
  },
  {
   "cell_type": "code",
   "execution_count": null,
   "id": "cbebba8d",
   "metadata": {},
   "outputs": [],
   "source": [
    "import folium\n",
    "import geopandas as gpd\n",
    "from folium.features import GeoJson,GeoJsonPopup,GeoJsonTooltip\n",
    "gdf = gpd.GeoDataFrame.from_file(r'c:\\data\\USA\\STATES.shp')\n",
    "m = folium.Map([40, -110], \n",
    "               width = 600,height = 400,\n",
    "               zoom_start=3)\n",
    "gjson = GeoJson(data=gdf).add_to(m)\n",
    "GeoJsonPopup(fields=[\"STATE_NAME\",\"AREA\",\"POP1990\"],labels=True).add_to(gjson)\n",
    "GeoJsonTooltip(fields=[\"STATE_NAME\",\"AREA\",\"POP1990\"],labels=True).add_to(gjson)\n",
    "m"
   ]
  },
  {
   "cell_type": "markdown",
   "id": "4ac80ef9",
   "metadata": {},
   "source": [
    "### 示例9-17"
   ]
  },
  {
   "cell_type": "code",
   "execution_count": null,
   "id": "924bdfed",
   "metadata": {},
   "outputs": [],
   "source": [
    "import folium\n",
    "from folium.plugins import TimestampedGeoJson\n",
    "m = folium.Map(location=[0,0],width = \"60%\",height = \"60%\",zoom_start=1)\n",
    "TimestampedGeoJson(\n",
    "    data={\n",
    "    'type': 'FeatureCollection',\n",
    "    'features': [\n",
    "        {'type': 'Feature',\n",
    "         'geometry': {'type': 'LineString',\n",
    "          'coordinates': [[-70,-25],[-70,35],[70,35]],},\n",
    "        'properties': {\n",
    "          'times': [\"2015-04-19 00:00:01\" , \n",
    "                 \"2015-04-19 00:00:02\", \n",
    "                 \"2015-04-19 00:00:03\"]\n",
    "          }}]},\n",
    "    transition_time=1000,\n",
    "    period=\"PT1S\").add_to(m)\n",
    "m"
   ]
  },
  {
   "cell_type": "markdown",
   "id": "dfdf34fd",
   "metadata": {},
   "source": [
    "### 示例9-18"
   ]
  },
  {
   "cell_type": "code",
   "execution_count": null,
   "id": "093e37de",
   "metadata": {},
   "outputs": [],
   "source": [
    "import pandas as pd\n",
    "import geopandas as gpd\n",
    "import folium\n",
    "from folium import Choropleth\n",
    "\n",
    "m = folium.Map([40, -110], \n",
    "              width = 600,height = 400,\n",
    "              zoom_start=3)\n",
    "gdf = gpd.GeoDataFrame.from_file(r'c:\\data\\USA\\STATES.shp')\n",
    "unemployment = pd.read_csv(r\"c:\\data\\USA\\US_Unemployment_Oct2012.csv\")\n",
    "Choropleth(geo_data=gdf,\n",
    "          data=unemployment,\n",
    "          columns=['State',\"Unemployment\"],\n",
    "          key_on='feature.properties.STATE_ABBR',\n",
    "          bins=5,\n",
    "          fill_color='YlGn',\n",
    "          legend_name=\"Unemployment Rate (%)\",\n",
    "          highlight=True).add_to(m)\n",
    "m"
   ]
  },
  {
   "cell_type": "markdown",
   "id": "502f6cf7",
   "metadata": {},
   "source": [
    "### 示例9-19"
   ]
  },
  {
   "cell_type": "code",
   "execution_count": null,
   "id": "d721542d",
   "metadata": {},
   "outputs": [],
   "source": [
    "import folium\n",
    "m = folium.Map(location=[30.5,119.5],\n",
    "               width = \"60%\",\n",
    "               height = \"60%\",\n",
    "               zoom_start=12)\n",
    "folium.TileLayer(\n",
    "    tiles=\"https://server.arcgisonline.com/ArcGIS/\\\n",
    "rest/services/World_Imagery/MapServer/tile/{z}/{y}/{x}\",\n",
    "    name=\"arcgisonline全球影像\",\n",
    "    attr=\"arcgisonline\",\n",
    "    opacity = 0.4,\n",
    ").add_to(m)\n",
    "m"
   ]
  },
  {
   "cell_type": "markdown",
   "id": "6d35d308",
   "metadata": {},
   "source": [
    "### 示例9-20"
   ]
  },
  {
   "cell_type": "code",
   "execution_count": null,
   "id": "9bde57e5",
   "metadata": {},
   "outputs": [],
   "source": [
    "import folium\n",
    "m = folium.Map(location=[41, -110], \n",
    "              zoom_start=3, \n",
    "              width=600,\n",
    "              height=400)\n",
    "\n",
    "url = 'https://ows.terrestris.de/osm/service'\n",
    "folium.WmsTileLayer(\n",
    "    url=url,\n",
    "    name=\"SRTM30-Colored-Hillshade\",\n",
    "    layers=['SRTM30-Colored-Hillshade'],\n",
    "    attr='SRTM30-Colored-Hillshade',\n",
    "    fmt=\"image/png\",\n",
    "    transparent=True,\n",
    ").add_to(m)\n",
    "\n",
    "folium.raster_layers.WmsTileLayer(\n",
    "    url=\"http://mesonet.agron.iastate.edu/cgi-bin/wms/nexrad/n0r.cgi\",\n",
    "    name=\"nexrad-n0r-900913\",\n",
    "    fmt=\"image/png\",\n",
    "    layers=\"nexrad-n0r-900913\",\n",
    "    attr=u\"Weather data © 2012 IEM Nexrad\",\n",
    "    transparent=True,\n",
    "    overlay=True,\n",
    "    control=True,\n",
    ").add_to(m)\n",
    "\n",
    "folium.LayerControl().add_to(m)\n",
    "m"
   ]
  },
  {
   "cell_type": "markdown",
   "id": "b7098a75",
   "metadata": {},
   "source": [
    "### 示例9-21"
   ]
  },
  {
   "cell_type": "code",
   "execution_count": null,
   "id": "126b90d1",
   "metadata": {},
   "outputs": [],
   "source": [
    "import folium\n",
    "from osgeo import gdal\n",
    "#利用GDAL读取tif文件并返回三个波段的图像数组\n",
    "ds = gdal.Open(r\"c:\\data\\landsat\\sub_image.tif\" )\n",
    "array = ds.ReadAsArray()\n",
    "array_543 = array[[4,3,2]].transpose(1,2,0)\n",
    "\n",
    "m = folium.Map(location=[31.15,121.80],\n",
    "              width = 600,height = 400,\n",
    "              zoom_start=11)\n",
    "folium.raster_layers.ImageOverlay(\n",
    "    image=array_543,\n",
    "    control=True,\n",
    "    name=\"landsat image\",\n",
    "    bounds=[[31.09, 121.73], [31.21, 121.88]],\n",
    ").add_to(m)\n",
    "folium.LayerControl().add_to(m)\n",
    "m"
   ]
  },
  {
   "cell_type": "markdown",
   "id": "6c166bd7",
   "metadata": {},
   "source": [
    "### 示例9-22"
   ]
  },
  {
   "cell_type": "code",
   "execution_count": null,
   "id": "e95038ad",
   "metadata": {},
   "outputs": [],
   "source": [
    "import folium\n",
    "m = folium.Map(location=[30, -110],\n",
    "              tiles = None,\n",
    "              width = 600,\n",
    "              height = 400,\n",
    "              zoom_start=4)\n",
    "tiles=\"https://server.arcgisonline.com/ArcGIS/rest/\\\n",
    "services/World_Imagery/MapServer/tile/{z}/{y}/{x}\"\n",
    "folium.TileLayer(\n",
    "    tiles=tiles,\n",
    "    name=\"遥感影像\",\n",
    "    attr=\"arcgisonline全球影像\",\n",
    "    overlay=False\n",
    ").add_to(m)\n",
    "\n",
    "folium.raster_layers.VideoOverlay(\n",
    "    video_url=r\"https://www.mapbox.com/bites/00188/patricia_nasa.mp4\",\n",
    "    bounds=[[32, -130], [13, -100]],\n",
    "    name=\"video_layer\",\n",
    "    loop=False,\n",
    ").add_to(m)\n",
    "folium.LayerControl().add_to(m)\n",
    "m"
   ]
  },
  {
   "cell_type": "markdown",
   "id": "a40b2475",
   "metadata": {},
   "source": [
    "### 示例9-23"
   ]
  },
  {
   "cell_type": "code",
   "execution_count": null,
   "id": "388b451b",
   "metadata": {},
   "outputs": [],
   "source": [
    "import folium\n",
    "from folium.plugins import HeatMap\n",
    "import geopandas as gpd\n",
    "gdf = gpd.GeoDataFrame.from_file(r'c:\\data\\USA\\Uscities_WGS.shp')\n",
    "city_list =[] \n",
    "for i in range(len(gdf)):\n",
    "    record = gdf.iloc[i]\n",
    "    lng = float(record[\"geometry\"].x)\n",
    "    lat = float(record[\"geometry\"].y)\n",
    "    weight = float(record[\"POP1990\"])\n",
    "    city_list.append([lat,lng, weight])\n",
    "m = folium.Map([40, -110],\n",
    "               width = 600,\n",
    "               height = 400,\n",
    "               zoom_start=3)\n",
    "HeatMap(city_list,radius=5,blur=10).add_to(m)\n",
    "m"
   ]
  },
  {
   "cell_type": "markdown",
   "id": "1eb33e1d",
   "metadata": {},
   "source": [
    "### 示例9-24"
   ]
  },
  {
   "cell_type": "code",
   "execution_count": null,
   "id": "1aefb1a4",
   "metadata": {},
   "outputs": [],
   "source": [
    "import folium\n",
    "from folium.plugins import MousePosition\n",
    "m = folium.Map([30, 121],\n",
    "              width = 600,\n",
    "              height = 400,\n",
    "              zoom_start=10)\n",
    "MousePosition().add_to(m)\n",
    "m"
   ]
  },
  {
   "cell_type": "markdown",
   "id": "1ce95477",
   "metadata": {},
   "source": [
    "### 示例9-25"
   ]
  },
  {
   "cell_type": "code",
   "execution_count": null,
   "id": "83434679",
   "metadata": {},
   "outputs": [],
   "source": [
    "import folium\n",
    "from folium.plugins import MousePosition,MeasureControl\n",
    "m = folium.Map([30, 121],\n",
    "               width = 600,\n",
    "               height = 400,\n",
    "               zoom_start=10)\n",
    "MousePosition().add_to(m)\n",
    "MeasureControl(localization=\"cn\",\n",
    "               primary_length_unit=\"kilometers\",\n",
    "               primary_area_unit=\"acres\").add_to(m)\n",
    "m"
   ]
  },
  {
   "cell_type": "markdown",
   "id": "eaacf847",
   "metadata": {},
   "source": [
    "### 示例9-26"
   ]
  },
  {
   "cell_type": "code",
   "execution_count": null,
   "id": "d3f06a85",
   "metadata": {},
   "outputs": [],
   "source": [
    "import folium\n",
    "from folium import plugins\n",
    "m = folium.Map(location=[31, 121.5])\n",
    "plugins.Draw(\n",
    "    export=True,\n",
    "    filename='my_data.geojson',\n",
    "    position='topleft',\n",
    ").add_to(m)\n",
    "m"
   ]
  },
  {
   "cell_type": "markdown",
   "id": "82f70581",
   "metadata": {},
   "source": [
    "### 示例9-27"
   ]
  },
  {
   "cell_type": "code",
   "execution_count": null,
   "id": "84bcb367",
   "metadata": {},
   "outputs": [],
   "source": [
    "import folium\n",
    "from folium.plugins import LocateControl\n",
    "m = folium.Map(location=[31, 121.5],\n",
    "               width=600,\n",
    "               height=400)\n",
    "LocateControl(strings={\"title\":\"定位当前位置\",\n",
    "                   \"popup\":\"你的位置\"}\n",
    "             ).add_to(m)\n",
    "m"
   ]
  },
  {
   "cell_type": "markdown",
   "id": "9aeff8b7",
   "metadata": {},
   "source": [
    "### 示例9-28"
   ]
  },
  {
   "cell_type": "code",
   "execution_count": null,
   "id": "8eba2b9b",
   "metadata": {},
   "outputs": [],
   "source": [
    "import geopandas\n",
    "import folium\n",
    "from folium.plugins import Search\n",
    "m = folium.Map(location=[40, -110], \n",
    "              width = 600,\n",
    "              height = 400,\n",
    "              zoom_start=3)\n",
    "\n",
    "citys = geopandas.read_file(r\"c:\\data\\USA\\Uscities.shp\")\n",
    "citys = folium.GeoJson(\n",
    "    citys,\n",
    "    marker=folium.Circle()\n",
    "    ).add_to(m)\n",
    "citysearch = Search(\n",
    "    layer=citys,\n",
    "    geom_type=\"Point\",\n",
    "    placeholder=\"search city\",\n",
    "    collapsed=True,\n",
    "    search_label=\"CITY_NAME\",\n",
    ").add_to(m)\n",
    "m"
   ]
  },
  {
   "cell_type": "markdown",
   "id": "c3386fe8",
   "metadata": {},
   "source": [
    "### 示例9-29"
   ]
  },
  {
   "cell_type": "code",
   "execution_count": null,
   "id": "2417f125",
   "metadata": {},
   "outputs": [],
   "source": [
    "import folium\n",
    "m = folium.Map(location=[31, 121.5],\n",
    "               width=600,\n",
    "               height=400)\n",
    "plugins.Geocoder(collapsed=True).add_to(m)\n",
    "m"
   ]
  }
 ],
 "metadata": {
  "kernelspec": {
   "display_name": "Python 3",
   "language": "python",
   "name": "python3"
  },
  "language_info": {
   "codemirror_mode": {
    "name": "ipython",
    "version": 3
   },
   "file_extension": ".py",
   "mimetype": "text/x-python",
   "name": "python",
   "nbconvert_exporter": "python",
   "pygments_lexer": "ipython3",
   "version": "3.8.8"
  }
 },
 "nbformat": 4,
 "nbformat_minor": 5
}
