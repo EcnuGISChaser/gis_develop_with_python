{
 "cells": [
  {
   "cell_type": "markdown",
   "id": "ae4d7aa5",
   "metadata": {},
   "source": [
    "### 示例6-1"
   ]
  },
  {
   "cell_type": "code",
   "execution_count": null,
   "id": "5e849bd8",
   "metadata": {},
   "outputs": [],
   "source": [
    "import pprint\n",
    "import fiona\n",
    "c = fiona.open(r'c:\\data\\USA\\CAPITALS.shp', 'r')\n",
    "pprint.pprint(c.schema)\n",
    "pprint.pprint(c.bounds)"
   ]
  },
  {
   "cell_type": "markdown",
   "id": "1c5c0091",
   "metadata": {},
   "source": [
    "### 示例6-2"
   ]
  },
  {
   "cell_type": "code",
   "execution_count": null,
   "id": "fcd35257",
   "metadata": {},
   "outputs": [],
   "source": [
    "import pprint\n",
    "import fiona\n",
    "c = fiona.open(r'c:\\data\\USA\\STATES.shp', 'r')\n",
    "print('schema_geometry:',c.schema['geometry'])\n",
    "for record in c:\n",
    "    pprint.pprint(record['geometry']['type'])"
   ]
  },
  {
   "cell_type": "markdown",
   "id": "25d0b5d0",
   "metadata": {},
   "source": [
    "### 示例6-3"
   ]
  },
  {
   "cell_type": "code",
   "execution_count": null,
   "id": "3202dfff",
   "metadata": {},
   "outputs": [],
   "source": [
    "import pprint\n",
    "import fiona\n",
    "c = fiona.open(r'c:\\data\\USA\\STATES.shp', 'r')\n",
    "for record in c:\n",
    "    geometry_type = record['geometry']['type']\n",
    "    coordinates = record['geometry']['coordinates']\n",
    "    if geometry_type == \"Polygon\":\n",
    "        #增加一层列表嵌套，使for循环个数一致\n",
    "        coordinates = [coordinates] \n",
    "    part_count = len(coordinates)\n",
    "    print(f\"本记录共有{part_count}个part\")\n",
    "    for part in coordinates:\n",
    "        ring_count = len(part)\n",
    "        print(f\"本part共有{ring_count}个ring\")\n",
    "        for ring in part:\n",
    "            point_count = len(ring)\n",
    "            print(f\"本ring共有{point_count}个顶点\")\n",
    "            for point in ring:\n",
    "                pprint.pprint(point)"
   ]
  },
  {
   "cell_type": "markdown",
   "id": "1beb3845",
   "metadata": {},
   "source": [
    "### 示例6-4"
   ]
  },
  {
   "cell_type": "code",
   "execution_count": null,
   "id": "42d1b3d3",
   "metadata": {},
   "outputs": [],
   "source": [
    "import fiona\n",
    "import pandas as pd\n",
    "c = fiona.open(r'c:\\data\\USA\\USHIGH.shp', 'r')\n",
    "fields = c.schema[\"properties\"]\n",
    "field_names = []\n",
    "for field_name in fields:\n",
    "    field_names.append(field_name)\n",
    "data = []    #所有记录字段值列表\n",
    "for record in c:\n",
    "    properties = record['properties']\n",
    "    field_values = []  #每个记录所有字段值列表\n",
    "    for field in properties:\n",
    "        field_values.append(properties[field])\n",
    "    data.append(field_values)\n",
    "frame = pd.DataFrame(data,columns=field_names)\n",
    "frame"
   ]
  },
  {
   "cell_type": "markdown",
   "id": "b6dc70d4",
   "metadata": {},
   "source": [
    "### 示例6-5"
   ]
  },
  {
   "cell_type": "code",
   "execution_count": null,
   "id": "21cb916f",
   "metadata": {},
   "outputs": [],
   "source": [
    "import fiona\n",
    "from fiona import crs\n",
    "schema = {\n",
    "    'geometry': 'Point',\n",
    "    'properties': {'城市': 'str:20','人口':'int'}\n",
    "}\n",
    "output = fiona.open(r'c:\\data\\tmp\\city.shp', 'w',\n",
    "                    driver='ESRI Shapefile',\n",
    "                    encoding='utf8',\n",
    "                    crs = crs.from_epsg(4326),\n",
    "                    schema=schema)\n",
    "output.close()"
   ]
  },
  {
   "cell_type": "markdown",
   "id": "ec1c4e35",
   "metadata": {},
   "source": [
    "### 示例6-6"
   ]
  },
  {
   "cell_type": "code",
   "execution_count": null,
   "id": "1af459c2",
   "metadata": {},
   "outputs": [],
   "source": [
    "import fiona\n",
    "from geojson import Polygon,Feature\n",
    "schema = {'geometry': 'Polygon',\n",
    "         'properties': {}}\n",
    "output = fiona.open(r'c:\\data\\tmp\\output.shp', 'w',\n",
    "                 driver='ESRI Shapefile',\n",
    "                 schema=schema)\n",
    "ext = [(0, 0), (0, 2), (2, 2), (2, 0)]\n",
    "int1 = [(0.5, 0.1), (1.5, 0.1), (1.5, 1), (0.5, 1)]\n",
    "int2 = [(0.5,1.1),(1.5,1.1),(1.5,1.8),(0.5,1.8)]\n",
    "polygon = Polygon([ext,int1,int2])\n",
    "polygon_feature = Feature(geometry=polygon, properties={})\n",
    "output.write(polygon_feature)\n",
    "output.close()"
   ]
  },
  {
   "cell_type": "markdown",
   "id": "a7101600",
   "metadata": {},
   "source": [
    "### 示例6-7"
   ]
  },
  {
   "cell_type": "code",
   "execution_count": null,
   "id": "ffc101d0",
   "metadata": {},
   "outputs": [],
   "source": [
    "from collections import OrderedDict\n",
    "from geojson import Point,Feature\n",
    "import fiona\n",
    "city_features = []\n",
    "point =Point([116.37,39.92])\n",
    "properties = OrderedDict({'城市':'北京','人口':2170})\n",
    "Beijing = Feature(geometry=point, properties=properties)\n",
    "city_features.append(Beijing)\n",
    "point =Point([121.53,31.26])\n",
    "properties = OrderedDict({'城市':'上海','人口':2418})\n",
    "Shanghai = Feature(geometry=point, properties=properties)\n",
    "city_features.append(Shanghai)\n",
    "point =Point([113.25,23.13])\n",
    "properties = OrderedDict({'城市':'广州','人口':1449})\n",
    "Guangzhou = Feature(geometry=point, properties=properties)\n",
    "city_features.append(Guangzhou)\n",
    "city = fiona.open(r'c:\\data\\tmp\\city.shp', 'r')\n",
    "output = fiona.open(r'c:\\data\\tmp\\output.shp', 'w', \n",
    "                 encoding='utf8',\n",
    "                 driver=city.driver,\n",
    "                 crs=city.crs, \n",
    "                 schema=city.schema)\n",
    "output.writerecords(city_features)\n",
    "output.close()"
   ]
  },
  {
   "cell_type": "markdown",
   "id": "51a00375",
   "metadata": {},
   "source": [
    "### 示例6-7（添加记录）"
   ]
  },
  {
   "cell_type": "code",
   "execution_count": null,
   "id": "a785bb3e",
   "metadata": {},
   "outputs": [],
   "source": [
    "from collections import OrderedDict\n",
    "import fiona\n",
    "Xiamen = {'geometry': {'type':'Point','coordinates':(118.10,24.47)},\n",
    "         'properties': OrderedDict([('城市','厦门'),('人口',429)])}\n",
    "output = fiona.open(r'c:\\data\\tmp\\output.shp', 'a')\n",
    "output.writerecords([Xiamen])\n",
    "output.close()"
   ]
  },
  {
   "cell_type": "markdown",
   "id": "676b7767",
   "metadata": {},
   "source": [
    "### 示例6-8"
   ]
  },
  {
   "cell_type": "code",
   "execution_count": null,
   "id": "021debe6",
   "metadata": {},
   "outputs": [],
   "source": [
    "from shapely.geometry import Point\n",
    "from shapely.geometry import LineString\n",
    "from shapely.geometry import LinearRing\n",
    "from shapely.geometry import Polygon\n",
    "from shapely.geometry import box\n",
    "point = Point(0, 0)\n",
    "line = LineString([[0,0], [1,1], [1,0]])\n",
    "ring = LinearRing([(0, 0), (1, 1), (1, 0)])\n",
    "polygon = Polygon([[0,0], [1,1], [1,0]])\n",
    "ext = [(0, 0), (0, 2), (2, 2), (2, 0)]\n",
    "int1 = [(0.5, 0.1), (1.5, 0.1), (1.5, 1), (0.5, 1)]\n",
    "int2 = [(0.5,1.1),(1.5,1.1),(1.5,1.8),(0.5,1.8)]\n",
    "polygon_with_hole = Polygon(ext, [int1,int2])\n",
    "box = box(0,0,1,1)\n",
    "display(point)\n",
    "display(line)\n",
    "display(ring)\n",
    "display(polygon)\n",
    "display(polygon_with_hole)\n",
    "display(box)"
   ]
  },
  {
   "cell_type": "markdown",
   "id": "390d14ae",
   "metadata": {},
   "source": [
    "### 示例6-9"
   ]
  },
  {
   "cell_type": "code",
   "execution_count": null,
   "id": "9db82db5",
   "metadata": {},
   "outputs": [],
   "source": [
    "from shapely.geometry import Point\n",
    "from shapely.geometry import MultiPoint\n",
    "from shapely.geometry import LineString\n",
    "from shapely.geometry import MultiLineString\n",
    "from shapely.geometry import Polygon\n",
    "from shapely.geometry import MultiPolygon\n",
    "point1 = Point((0,0))\n",
    "point2 = Point((1,1))\n",
    "points = MultiPoint([point1,point2])\n",
    "line1 = LineString([(0.1,0.1), (1,1)])\n",
    "line2 = LineString([(-1,0),(1,0)])\n",
    "lines = MultiLineString([line1,line2])\n",
    "polygon1 = Polygon([(0, 0), (1, 1), (1, 0)])\n",
    "polygon2 = Polygon([(1, 1.1), (1, 2), (2, 2)])\n",
    "polygons = MultiPolygon([polygon1,polygon2])\n",
    "display(points)\n",
    "display(lines)\n",
    "display(polygons)"
   ]
  },
  {
   "cell_type": "markdown",
   "id": "f0716235",
   "metadata": {},
   "source": [
    "### 示例6-10"
   ]
  },
  {
   "cell_type": "code",
   "execution_count": null,
   "id": "93b543d8",
   "metadata": {},
   "outputs": [],
   "source": [
    "from shapely.geometry import Polygon\n",
    "polygon = Polygon([(0,0),(1,0),(1,1),(0,1)])\n",
    "print(f\"area:{polygon.area}\")\n",
    "print(f\"length:{polygon.length}\")\n",
    "print(f\"bounds:{polygon.bounds}\")\n",
    "print(f\"centroid:{polygon.centroid}\")"
   ]
  },
  {
   "cell_type": "markdown",
   "id": "1b172f58",
   "metadata": {},
   "source": [
    "### 示例6-11"
   ]
  },
  {
   "cell_type": "code",
   "execution_count": null,
   "id": "e918a1b7",
   "metadata": {},
   "outputs": [],
   "source": [
    "from shapely.geometry import LineString\n",
    "from shapely.geometry import Polygon\n",
    "line = LineString(((0,0), (1,1), (1,0)))\n",
    "print(f\"线坐标：{line.coords[:]}\")\n",
    "print(f\"线的第一个点坐标：{line.coords[0]}\")\n",
    "ext = [(0, 0), (0, 2), (2, 2), (2, 0)]\n",
    "int = [(0.5, 0.1), (1.5, 0.1), (1.5, 1),(0.5, 1)]\n",
    "polygon = Polygon(ext, [int])\n",
    "ext_coords = list(polygon.exterior.coords)\n",
    "int_coords = list(polygon.interiors[0].coords)\n",
    "print(f\"多边形外边线坐标：{ext_coords}\")\n",
    "print(f\"多边形内边线坐标：{int_coords}\")"
   ]
  },
  {
   "cell_type": "markdown",
   "id": "093a78ec",
   "metadata": {},
   "source": [
    "### 示例6-12"
   ]
  },
  {
   "cell_type": "code",
   "execution_count": null,
   "id": "0d332893",
   "metadata": {},
   "outputs": [],
   "source": [
    "from shapely.geometry import Point\n",
    "from shapely.geometry import LineString\n",
    "point = Point([1,1])\n",
    "line = LineString(((0,0), (1,1), (1,0)))\n",
    "dist = point.distance(line)\n",
    "h_dist = point.hausdorff_distance(line)\n",
    "print(f\"dist:{dist}\")\n",
    "print(f\"h_dist:{h_dist}\")"
   ]
  },
  {
   "cell_type": "markdown",
   "id": "816e8656",
   "metadata": {},
   "source": [
    "### 示例6-13"
   ]
  },
  {
   "cell_type": "code",
   "execution_count": null,
   "id": "69d1adec",
   "metadata": {},
   "outputs": [],
   "source": [
    "from shapely.geometry import Point\n",
    "a = Point(1, 1).buffer(1.5)\n",
    "b = Point(2, 1).buffer(1.5)\n",
    "intersection = a.intersection(b)\n",
    "intersection"
   ]
  },
  {
   "cell_type": "markdown",
   "id": "6e0c7fcf",
   "metadata": {},
   "source": [
    "### 示例6-14"
   ]
  },
  {
   "cell_type": "code",
   "execution_count": null,
   "id": "04c41221",
   "metadata": {},
   "outputs": [],
   "source": [
    "from shapely.geometry import LineString\n",
    "from shapely.geometry import Polygon\n",
    "line = LineString([(0.1,0.1), (0.9,0.9)])\n",
    "polygon = Polygon([(0,0), (1,0), (1,1), (0,1)])\n",
    "print(f\"crosses:{line.crosses(polygon)}\")\n",
    "print(f\"intersects:{line.intersects(polygon)}\")"
   ]
  },
  {
   "cell_type": "markdown",
   "id": "64c04939",
   "metadata": {},
   "source": [
    "### 示例6-15"
   ]
  },
  {
   "cell_type": "code",
   "execution_count": null,
   "id": "e4fe422b",
   "metadata": {},
   "outputs": [],
   "source": [
    "from shapely.geometry import Point,LineString,MultiLineString\n",
    "from pyproj import Transformer\n",
    "from shapely.ops import transform\n",
    "lines = []\n",
    "\n",
    "#构建纬线（0到60度，间隔10度），每条纬线从经度70度到140度，\n",
    "#每隔10度增加一个点\n",
    "for i in range(0,61,10):\n",
    "    points = []\n",
    "    for j in range(70,141,10):\n",
    "        point = Point([j,i])\n",
    "        points.append(point)\n",
    "    lat_line = LineString(points)\n",
    "    lines.append(lat_line)\n",
    "\n",
    "#构建经线（70到140度，间隔10度），每条经线从纬度0度到60度，\n",
    "#每隔10度增加一个点   \n",
    "for i in range(70,141,10):\n",
    "    points = []\n",
    "    for j in range(0,61,10):\n",
    "        point = Point([i,j])\n",
    "        points.append(point)\n",
    "    lat_line = LineString(points)\n",
    "    lines.append(lat_line)\n",
    "\n",
    "grid = MultiLineString(lines)\n",
    "display(grid)\n",
    "#定义Albers Equal Area Conic投影坐标系统\n",
    "crs = \"+proj=aea +lat_1=25 +lat_2=47 +lat_0=0 +lon_0=105\"\n",
    "#创建Transformer对象，并利用Transformer对象的transform函数作为坐标转换函数\n",
    "transformer = Transformer.from_crs(4326, crs,always_xy=True)\n",
    "new_grid = transform(transformer.transform,grid)\n",
    "display(new_grid)"
   ]
  },
  {
   "cell_type": "markdown",
   "id": "a6af7292",
   "metadata": {},
   "source": [
    "### 示例6-16"
   ]
  },
  {
   "cell_type": "code",
   "execution_count": null,
   "id": "d0991109",
   "metadata": {},
   "outputs": [],
   "source": [
    "import fiona\n",
    "from shapely.geometry import Polygon,MultiPolygon\n",
    "#构建查询选择函数\n",
    "def select(collection,state_name):\n",
    "    for record in collection:\n",
    "        field_value = record['properties'][\"STATE_NAME\"]\n",
    "        coordinates = record['geometry']['coordinates']\n",
    "        if field_value == state_name:\n",
    "            if record['geometry']['type']=='Polygon':\n",
    "                #选择第一条环线构建Polygon（这里不涉及孔洞）\n",
    "                state_polygon = Polygon(coordinates[0])\n",
    "            elif record['geometry']['type']=='MultiPolygon':\n",
    "                polygons = []\n",
    "                for part_coordinates in coordinates:\n",
    "                    #同样选择第一条环线构建Polygon\n",
    "                    polygon = Polygon(part_coordinates[0])\n",
    "                    polygons.append(polygon)\n",
    "                state_polygon = MultiPolygon(polygons)\n",
    "    return state_polygon\n",
    "#读取数据并调用函数\n",
    "state_c = fiona.open(r'c:\\data\\USA\\STATES.shp', 'r')\n",
    "state_name = \"Kansas\"\n",
    "state_polygon = select(state_c,state_name)\n",
    "state_c.close()\n",
    "state_polygon"
   ]
  },
  {
   "cell_type": "markdown",
   "id": "ead07e29",
   "metadata": {},
   "source": [
    "### 示例6-17（接示例6-16代码）"
   ]
  },
  {
   "cell_type": "code",
   "execution_count": null,
   "id": "93f81b3c",
   "metadata": {},
   "outputs": [],
   "source": [
    "high_c = fiona.open(r'c:\\data\\USA\\USHIGH.shp', 'r')\n",
    "#返回USHIGH.shp数据文件的driver、crs和schema，用于构建新数据\n",
    "source_driver = high_c.driver\n",
    "source_crs = high_c.crs\n",
    "source_schema = high_c.schema\n",
    "output_filename = f'c:/data/tmp/{state_name}_high.shp'\n",
    "target = fiona.open(output_filename,'w',\n",
    "                driver=source_driver,\n",
    "                crs=source_crs, \n",
    "                schema=source_schema)\n",
    "\n",
    "for record in high_c:\n",
    "    coordinates = record['geometry']['coordinates']\n",
    "    if record['geometry']['type']=='LineString':\n",
    "        record_line = LineString(coordinates)\n",
    "    elif record['geometry']['type']=='MultiLineString':\n",
    "        record_line = MultiLineString(coordinates)\n",
    "    #如果当前记录的线对象与多边形相交，则写到目标文件中\n",
    "    #state_polygon是上个示例返回的州多边形对象\n",
    "    if record_line.intersects(state_polygon):\n",
    "        target.write(record)\n",
    "high_c.close()\n",
    "target.close()"
   ]
  },
  {
   "cell_type": "markdown",
   "id": "a814dda7",
   "metadata": {},
   "source": [
    "### 示例6-18（对示例6-17代码进行改写）"
   ]
  },
  {
   "cell_type": "code",
   "execution_count": null,
   "id": "2b4acd3e",
   "metadata": {},
   "outputs": [],
   "source": [
    " if record_line.intersects(state_polygon):\n",
    "        cut_line =  record_line.intersection(state_polygon)\n",
    "        #如果是LineString，直接利用coords属性返回坐标\n",
    "        if cut_line.geom_type == 'LineString':\n",
    "            new_coordinates = cut_line.coords\n",
    "        #如果是MultiLineString，对每个部分利用coords属性返回坐标\n",
    "        #并构建列表\n",
    "        elif cut_line.geom_type == 'MultiLineString':\n",
    "            new_coordinates = []\n",
    "            for part in cut_line:\n",
    "                new_coordinates.append(part.coords)\n",
    "        #把新坐标赋给当前记录\n",
    "        record['geometry']['coordinates'] = new_coordinates\n",
    "        target.write(record)"
   ]
  }
 ],
 "metadata": {
  "kernelspec": {
   "display_name": "Python 3",
   "language": "python",
   "name": "python3"
  },
  "language_info": {
   "codemirror_mode": {
    "name": "ipython",
    "version": 3
   },
   "file_extension": ".py",
   "mimetype": "text/x-python",
   "name": "python",
   "nbconvert_exporter": "python",
   "pygments_lexer": "ipython3",
   "version": "3.8.8"
  }
 },
 "nbformat": 4,
 "nbformat_minor": 5
}
