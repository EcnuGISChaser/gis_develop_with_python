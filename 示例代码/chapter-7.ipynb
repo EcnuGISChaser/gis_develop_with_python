{
 "cells": [
  {
   "cell_type": "markdown",
   "id": "05298828",
   "metadata": {},
   "source": [
    "### 示例7-1"
   ]
  },
  {
   "cell_type": "code",
   "execution_count": null,
   "id": "a3ce081a",
   "metadata": {},
   "outputs": [],
   "source": [
    "from shapely.geometry import Point\n",
    "from shapely.geometry import LineString\n",
    "from shapely.geometry import Polygon\n",
    "import geopandas as gpd\n",
    "point = Point([1.5,2])\n",
    "line = LineString([[0,0], [0,1], [1,2]])\n",
    "polygon = Polygon([[0.3, 0], [0.3,0.8],[1, 0.8], [1, 0]])\n",
    "gs = gpd.GeoSeries([point,line,polygon])\n",
    "print(gs)"
   ]
  },
  {
   "cell_type": "markdown",
   "id": "7ab7f03f",
   "metadata": {},
   "source": [
    "### 示例7-2"
   ]
  },
  {
   "cell_type": "code",
   "execution_count": null,
   "id": "52015c1b",
   "metadata": {},
   "outputs": [],
   "source": [
    "import geopandas as gpd\n",
    "x = [116.37,121.53,113.25]\n",
    "y = [39.92,31.26,23.13]\n",
    "gs = gpd.GeoSeries.from_xy(x, y)\n",
    "gs"
   ]
  },
  {
   "cell_type": "markdown",
   "id": "c5cae4cf",
   "metadata": {},
   "source": [
    "### 示例7-3"
   ]
  },
  {
   "cell_type": "code",
   "execution_count": null,
   "id": "3d54ebff",
   "metadata": {},
   "outputs": [],
   "source": [
    "%matplotlib inline\n",
    "from shapely.geometry import box\n",
    "import geopandas as gpd\n",
    "box1 = box(110,20,120,30)\n",
    "gs1 = gpd.GeoSeries([box1])\n",
    "ax1 = gs1.plot(color='r')\n",
    "box2 = box(115,25,125,35)\n",
    "gs2 = gpd.GeoSeries([box2])\n",
    "gs2.plot(ax=ax1,color='b',zorder=0)"
   ]
  },
  {
   "cell_type": "markdown",
   "id": "98ba6ba4",
   "metadata": {},
   "source": [
    "### 示例7-4"
   ]
  },
  {
   "cell_type": "code",
   "execution_count": null,
   "id": "a4a067cb",
   "metadata": {},
   "outputs": [],
   "source": [
    "from shapely.geometry import Point\n",
    "import geopandas as gpd\n",
    "p1 = Point([116.37,39.92])\n",
    "p2 = Point([121.53,31.26])\n",
    "p3 = Point([113.25,23.13])\n",
    "data = {\"城市名\":[\"北京\",\"上海\",\"广州\"],\n",
    "       \"人口（万人）\":[2170,2418,1449],\n",
    "       \"points\":[p1,p2,p3]}\n",
    "gdf = gpd.GeoDataFrame(data,geometry=\"points\",crs=4326)\n",
    "gdf"
   ]
  },
  {
   "cell_type": "markdown",
   "id": "47db9436",
   "metadata": {},
   "source": [
    "### 示例7-4(2)"
   ]
  },
  {
   "cell_type": "code",
   "execution_count": null,
   "id": "d9734479",
   "metadata": {},
   "outputs": [],
   "source": [
    "from shapely.geometry import Point\n",
    "import geopandas as gpd\n",
    "data = [[\"北京\",2170],[\"上海\",2418],[\"广州\",1449]]\n",
    "gdf = gpd.GeoDataFrame(data,columns=[\"城市名\",\"人口（万人）\"])\n",
    "p1 = Point([116.37,39.92])\n",
    "p2 = Point([121.53,31.26])\n",
    "p3 = Point([113.25,23.13])\n",
    "gdf[\"geometry\"] = [p1,p2,p3]\n",
    "gdf                             "
   ]
  },
  {
   "cell_type": "markdown",
   "id": "a1d5dc4d",
   "metadata": {},
   "source": [
    "### 示例7-5"
   ]
  },
  {
   "cell_type": "code",
   "execution_count": null,
   "id": "ea61abfe",
   "metadata": {},
   "outputs": [],
   "source": [
    "%matplotlib inline\n",
    "import pandas as pd\n",
    "import geopandas as gpd\n",
    "frame = pd.read_csv(r\"c:\\data\\china\\china_cities.csv\",\n",
    "                    names=[\"城市名\",\"经度\",\"纬度\",\"省名\",\"是否省会\"],\n",
    "                    encoding=\"utf8\")\n",
    "gdf = gpd.GeoDataFrame(frame)\n",
    "geometry = gpd.points_from_xy(frame[\"经度\"],frame[\"纬度\"], crs=\"EPSG:4326\")\n",
    "gdf[\"geometry\"] = geometry\n",
    "gdf.plot()"
   ]
  },
  {
   "cell_type": "markdown",
   "id": "107e4687",
   "metadata": {},
   "source": [
    "### 示例7-6"
   ]
  },
  {
   "cell_type": "code",
   "execution_count": null,
   "id": "f2081238",
   "metadata": {},
   "outputs": [],
   "source": [
    "import geopandas as gpd\n",
    "gdf = gpd.read_file(r'c:\\data\\china\\china_province_wgs.shp')\n",
    "gdf"
   ]
  },
  {
   "cell_type": "markdown",
   "id": "f08ca06e",
   "metadata": {},
   "source": [
    "### 示例7-7"
   ]
  },
  {
   "cell_type": "code",
   "execution_count": null,
   "id": "589775ab",
   "metadata": {},
   "outputs": [],
   "source": [
    "import geopandas as gpd\n",
    "url = \"https://d2ad6b4ur7yvpq.cloudfront.net/naturalearth-3.3.0/ne_110m_coastline.geojson\"\n",
    "coastline = gpd.read_file(url)\n",
    "ax1 = coastline.plot()\n",
    "url = \"https://d2ad6b4ur7yvpq.cloudfront.net/naturalearth-3.3.0/ne_10m_ports.geojson\"\n",
    "ports = gpd.read_file(url)\n",
    "ports.plot(ax=ax1,color=\"red\")"
   ]
  },
  {
   "cell_type": "markdown",
   "id": "5f60b801",
   "metadata": {},
   "source": [
    "### 示例7-8"
   ]
  },
  {
   "cell_type": "code",
   "execution_count": null,
   "id": "d2a8bb60",
   "metadata": {},
   "outputs": [],
   "source": [
    "%matplotlib inline\n",
    "import geopandas as gpd\n",
    "states = gpd.GeoDataFrame.from_file(r'c:\\data\\USA\\USA.gdb',\n",
    "                                 driver='OpenFileGDB',\n",
    "                                 layer=\"Kansas\")\n",
    "ax1 = states.plot(alpha=0.5)  #alpha为透明度\n",
    "highs = gpd.GeoDataFrame.from_file(r'c:\\data\\USA\\USA.gdb',\n",
    "                                 driver='OpenFileGDB',\n",
    "                                 layer=\"Kansas_HIGH\")\n",
    "highs.plot(ax=ax1,color='r',linewidth=0.5)"
   ]
  },
  {
   "cell_type": "markdown",
   "id": "051b1981",
   "metadata": {},
   "source": [
    "### 示例7-9"
   ]
  },
  {
   "cell_type": "code",
   "execution_count": null,
   "id": "7993566a",
   "metadata": {},
   "outputs": [],
   "source": [
    "%matplotlib inline\n",
    "from shapely.geometry import box\n",
    "import geopandas as gpd\n",
    "bbox = -120,30,-100,50\n",
    "selected_states = gpd.read_file(r'c:\\data\\USA\\STATES.shp',\n",
    "                                bbox = bbox)\n",
    "ax1 = selected_states.plot(color=\"g\",edgecolor=\"k\",zorder=0)\n",
    "box = gpd.GeoSeries([box(bbox[0],bbox[1],bbox[2],bbox[3])])\n",
    "box.plot(ax=ax1,alpha=0.3,color=\"r\",edgecolor=\"k\",linewidth=1)"
   ]
  },
  {
   "cell_type": "markdown",
   "id": "309b1847",
   "metadata": {},
   "source": [
    "### 示例7-10"
   ]
  },
  {
   "cell_type": "code",
   "execution_count": null,
   "id": "4248adc3",
   "metadata": {},
   "outputs": [],
   "source": [
    "from shapely.geometry import Point\n",
    "import geopandas as gpd\n",
    "data = [[\"北京\",2170,Point([116.37,39.92])],\n",
    "        [\"上海\",2418,Point([121.53,31.26])],\n",
    "        [\"广州\",1449,Point([113.25,23.13])]]\n",
    "gdf = gpd.GeoDataFrame(data,columns=[\"城市\",\"人口\",\"geometry\"])\n",
    "gdf.crs = \"EPSG:4326\"\n",
    "gdf.to_file(r\"c:\\data\\tmp\\city.shp\",encoding='utf8')"
   ]
  },
  {
   "cell_type": "markdown",
   "id": "b3e806f7",
   "metadata": {},
   "source": [
    "### 示例7-11"
   ]
  },
  {
   "cell_type": "code",
   "execution_count": null,
   "id": "64f20c5e",
   "metadata": {},
   "outputs": [],
   "source": [
    "import geopandas as gpd\n",
    "gdf = gpd.GeoDataFrame.from_file(r'c:\\data\\china\\china_provinces.shp',\n",
    "                                 encoding=\"utf8\")\n",
    "gdf.to_file(r\"c:\\data\\tmp\\china_provinces.json\",\n",
    "            driver='GeoJSON',\n",
    "            encoding=\"utf8\") "
   ]
  },
  {
   "cell_type": "markdown",
   "id": "ba966981",
   "metadata": {},
   "source": [
    "### 示例7-12"
   ]
  },
  {
   "cell_type": "code",
   "execution_count": null,
   "id": "36b7a3ff",
   "metadata": {},
   "outputs": [],
   "source": [
    "from shapely.geometry import Point\n",
    "import geopandas as gpd\n",
    "p1 = Point([116.37,39.92])\n",
    "p2 = Point([121.53,31.26])\n",
    "p3 = Point([113.25,23.13])\n",
    "data = {\"城市名\":[\"北京\",\"上海\",\"广州\"],\n",
    "       \"人口（万人）\":[2170,2418,1449],\n",
    "       \"points\":[p1,p2,p3]}\n",
    "gdf = gpd.GeoDataFrame(data,geometry=\"points\",crs=4326)\n",
    "gdf_prj = gdf.to_crs(3857)\n",
    "gdf_prj"
   ]
  },
  {
   "cell_type": "markdown",
   "id": "a8541a60",
   "metadata": {},
   "source": [
    "### 示例7-13"
   ]
  },
  {
   "cell_type": "code",
   "execution_count": null,
   "id": "c31110ee",
   "metadata": {},
   "outputs": [],
   "source": [
    "%matplotlib inline\n",
    "import geopandas as gpd\n",
    "gdf = gpd.GeoDataFrame.from_file(r'c:\\data\\china\\china_cities.shp')\n",
    "#为计算距离，需要把地理坐标转换成投影坐标，这里使用等积圆锥投影\n",
    "crs = \"+proj=aea +lat_1=25 +lat_2=47 +lat_0=30 +lon_0=105 +ellps=WGS84 +units=m\"\n",
    "gdf_prj = gdf.to_crs(crs)\n",
    "ax1 = gdf_prj.plot()\n",
    "d_list = []\n",
    "for point in gdf_prj[\"geometry\"]:\n",
    "    s = gdf_prj.distance(point) #计算当前点与每个点的距离\n",
    "    distance_sum = int(s.sum()*0.001) #计算距离总和（距离单位转换成公里）\n",
    "    d_list.append(distance_sum)  #添加到列表    \n",
    "gdf_prj[\"距离\"] = d_list\n",
    "#返回距离值最小记录\n",
    "center_city = gdf_prj[gdf_prj[\"距离\"] == gdf_prj[\"距离\"].min()]\n",
    "center_city.plot(ax=ax1,color='r')\n",
    "center_city"
   ]
  },
  {
   "cell_type": "markdown",
   "id": "08429780",
   "metadata": {},
   "source": [
    "### 示例7-14"
   ]
  },
  {
   "cell_type": "code",
   "execution_count": null,
   "id": "80015ecd",
   "metadata": {},
   "outputs": [],
   "source": [
    "from shapely.geometry import Point\n",
    "from shapely.geometry import box\n",
    "import geopandas as gpd\n",
    "p1 = Point([116.37,39.92])\n",
    "p2 = Point([121.53,31.26])\n",
    "p3 = Point([113.25,23.13])\n",
    "data = {\"城市名\":[\"北京\",\"上海\",\"广州\"],\n",
    "       \"人口（万人）\":[2170,2418,1449],\n",
    "       \"points\":[p1,p2,p3]}\n",
    "gdf = gpd.GeoDataFrame(data,geometry=\"points\",crs=4326)\n",
    "#设置投影坐标为等积圆锥投影\n",
    "crs = \"+proj=aea +lat_ +lat_2=47 +lat_0=0 +lon_0=105 +ellps=WGS84 +units=km\"\n",
    "gdf_prj = gdf.to_crs(crs)\n",
    "ax1 = gdf_prj.plot(color=\"b\") \n",
    "buffer = gdf_prj.buffer(300)\n",
    "buffer.plot(ax=ax1,alpha=0.5,color=\"r\",zorder=1)\n",
    "\n",
    "china_cities = gpd.GeoDataFrame.from_file(r'c:\\data\\china\\china_cities.shp')\n",
    "china_cities_prj = china_cities.to_crs(crs)\n",
    "#返回DataFrame，包含每个记录的minx、miny、maxx、maxy\n",
    "bounds = china_cities_prj.bounds \n",
    "#返回所有记录中的minx、miny、maxx、maxy\n",
    "minx = bounds[\"minx\"].min()\n",
    "miny = bounds[\"miny\"].min()\n",
    "maxx = bounds[\"maxx\"].max()\n",
    "maxy = bounds[\"maxy\"].max()\n",
    "box = box(minx,miny,maxx,maxy)\n",
    "gs = gpd.GeoSeries(box)\n",
    "gs.plot(ax=ax1,alpha=0.5,color=\"gray\",zorder=0)"
   ]
  },
  {
   "cell_type": "markdown",
   "id": "4214b256",
   "metadata": {},
   "source": [
    "### 示例7-15"
   ]
  },
  {
   "cell_type": "code",
   "execution_count": null,
   "id": "54c51f88",
   "metadata": {},
   "outputs": [],
   "source": [
    "import geopandas as gpd\n",
    "states = gpd.GeoDataFrame.from_file(r'c:\\data\\USA\\STATES.shp')\n",
    "state_name = \"Utah\"   #设置州名\n",
    "selected_state = states[states[\"STATE_NAME\"]==state_name]\n",
    "ax1 = selected_state.plot()\n",
    "#从GeoDataFrame中返回选中记录的几何对象\n",
    "polygon = selected_state.iloc[0][\"geometry\"] \n",
    "ushigh = gpd.GeoDataFrame.from_file(r\"c:\\data\\USA\\USHIGH.shp\")\n",
    "high = ushigh[ushigh.intersects(polygon)]\n",
    "high.plot(ax=ax1,color='r',zorder=1)\n",
    "output_filename = f'c:\\\\data\\\\tmp\\{state_name}_high.shp'\n",
    "high.to_file(output_filename)"
   ]
  },
  {
   "cell_type": "markdown",
   "id": "f5083152",
   "metadata": {},
   "source": [
    "### 示例7-16"
   ]
  },
  {
   "cell_type": "code",
   "execution_count": null,
   "id": "995cbd6d",
   "metadata": {},
   "outputs": [],
   "source": [
    "%matplotlib inline\n",
    "from shapely.geometry import box\n",
    "import geopandas as gpd\n",
    "box1 = box(10,10,20,20)\n",
    "box2 = box(15,30,25,40)\n",
    "box3 = box(30,15,40,25)\n",
    "data = [[box1],[box2],[box3]]\n",
    "gdf = gpd.GeoDataFrame(data,columns=[\"geometry\"])\n",
    "ax1 = gdf.plot(alpha=0.8,color=\"b\",zorder=0)\n",
    "target = box(15,15,35,35)\n",
    "gs = gpd.GeoSeries([target])\n",
    "gs.plot(ax=ax1,alpha=0.5,color=\"r\")\n",
    "intersection = gdf.intersection(target)\n",
    "intersection.plot()\n",
    "union = gdf.union(target)\n",
    "union.plot()\n",
    "difference = gdf.difference(target)\n",
    "difference.plot()"
   ]
  }
 ],
 "metadata": {
  "kernelspec": {
   "display_name": "Python 3",
   "language": "python",
   "name": "python3"
  },
  "language_info": {
   "codemirror_mode": {
    "name": "ipython",
    "version": 3
   },
   "file_extension": ".py",
   "mimetype": "text/x-python",
   "name": "python",
   "nbconvert_exporter": "python",
   "pygments_lexer": "ipython3",
   "version": "3.8.8"
  }
 },
 "nbformat": 4,
 "nbformat_minor": 5
}
