{
 "cells": [
  {
   "cell_type": "markdown",
   "id": "387958f4",
   "metadata": {},
   "source": [
    "### 示例1-1"
   ]
  },
  {
   "cell_type": "code",
   "execution_count": null,
   "id": "7c1c173c",
   "metadata": {},
   "outputs": [],
   "source": [
    "from arcpy import *\n",
    "in_workspace = GetParameterAsText(0)\n",
    "clipFeature = GetParameterAsText(1)\n",
    "out_workspace = GetParameterAsText(2)\n",
    "env.workspace = in_workspace\n",
    "fcs = ListFeatureClasses()\n",
    "for fc in fcs:\n",
    "    outFeatureClass = out_workspace + \"/clip_\" + fc\n",
    "    Clip_analysis(fc, clipFeature, outFeatureClass)"
   ]
  },
  {
   "cell_type": "markdown",
   "id": "e47157df",
   "metadata": {},
   "source": [
    "### 示例1-2"
   ]
  },
  {
   "cell_type": "code",
   "execution_count": null,
   "id": "2e216f61",
   "metadata": {},
   "outputs": [],
   "source": [
    "from math import log,tan,pi\n",
    "import sys\n",
    "lng = float(sys.argv[1])\n",
    "lat = float(sys.argv[2])\n",
    "r = 20037508.34\n",
    "x = int(lng*r/180) \n",
    "y = int(log(tan(pi/4+lat*pi/360))*(r/pi))  \n",
    "print(f\"x:{x},y:{y}\")"
   ]
  },
  {
   "cell_type": "code",
   "execution_count": null,
   "id": "ff6236d7",
   "metadata": {},
   "outputs": [],
   "source": []
  }
 ],
 "metadata": {
  "kernelspec": {
   "display_name": "Python 3",
   "language": "python",
   "name": "python3"
  },
  "language_info": {
   "codemirror_mode": {
    "name": "ipython",
    "version": 3
   },
   "file_extension": ".py",
   "mimetype": "text/x-python",
   "name": "python",
   "nbconvert_exporter": "python",
   "pygments_lexer": "ipython3",
   "version": "3.8.8"
  }
 },
 "nbformat": 4,
 "nbformat_minor": 5
}
