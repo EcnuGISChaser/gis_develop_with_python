{
 "cells": [
  {
   "cell_type": "markdown",
   "id": "f3ec0dc9",
   "metadata": {},
   "source": [
    "### 示例5-1"
   ]
  },
  {
   "cell_type": "code",
   "execution_count": null,
   "id": "49af5311",
   "metadata": {},
   "outputs": [],
   "source": [
    "from pyproj import CRS\n",
    "crs = CRS.from_epsg(4214)\n",
    "wkt = crs.to_wkt(pretty=True) #转wkt文本\n",
    "print(\"wkt crs文本：\")\n",
    "print(wkt)\n",
    "proj4 = crs.to_proj4()        #转proj4字符串\n",
    "print(\"proj4字符串：\")\n",
    "print(proj4)\n",
    "epsg_from_wkt = CRS.from_wkt(wkt).to_epsg()\n",
    "print(f\"epsg_from_wkts：{epsg_from_wkt}\")\n",
    "epsg_from_proj4 = CRS.from_proj4(proj4).to_epsg()\n",
    "print(f\"epsg_from_proj4：{epsg_from_proj4}\")  \n",
    "wkt_from_proj4 = CRS.from_proj4(proj4).to_wkt(pretty=True)\n",
    "print(\"proj4字符串转换得到的wkt crs文本：\")\n",
    "print(wkt_from_proj4)   "
   ]
  },
  {
   "cell_type": "markdown",
   "id": "161cd228",
   "metadata": {},
   "source": [
    "### 示例5-2"
   ]
  },
  {
   "cell_type": "code",
   "execution_count": null,
   "id": "ac2a8c5b",
   "metadata": {},
   "outputs": [],
   "source": [
    "from pyproj import CRS\n",
    "from pyproj.enums import WktVersion\n",
    "f = open(r\"c:\\data\\tmp\\output.prj\",\"w\")\n",
    "crs = CRS.from_epsg(4326)\n",
    "wkt = crs.to_wkt(version=WktVersion.WKT1_ESRI)\n",
    "f.write(wkt)\n",
    "f.close()"
   ]
  },
  {
   "cell_type": "markdown",
   "id": "34047047",
   "metadata": {},
   "source": [
    "### 示例5-3"
   ]
  },
  {
   "cell_type": "code",
   "execution_count": null,
   "id": "d627d918",
   "metadata": {},
   "outputs": [],
   "source": [
    "from pyproj import CRS\n",
    "from pyproj.enums import WktVersion\n",
    "crs = CRS.from_epsg(3857)\n",
    "wkt = crs.to_wkt(version=WktVersion.WKT1_ESRI,pretty=True)\n",
    "text = f\"<PAMDataset>\\n <SRS>{wkt}</SRS>\\n</PAMDataset>\"\n",
    "f = open(r\"c:\\data\\tmp\\14_13716_6694.png.aux.xml\", \"w\")\n",
    "f.write(text)\n",
    "f.close()"
   ]
  },
  {
   "cell_type": "markdown",
   "id": "95619ca6",
   "metadata": {},
   "source": [
    "### 示例5-4"
   ]
  },
  {
   "cell_type": "code",
   "execution_count": null,
   "id": "9c22551e",
   "metadata": {},
   "outputs": [],
   "source": [
    "from pyproj import Transformer\n",
    "transformer1 = Transformer.from_crs(4326,2335,always_xy=True)\n",
    "transformer2 = Transformer.from_crs(4326,2346,always_xy=True)\n",
    "p1 = transformer1.transform(121,31)\n",
    "print(p1)\n",
    "p2 = transformer2.transform(121,31)\n",
    "print(p2)"
   ]
  },
  {
   "cell_type": "markdown",
   "id": "8a2f22ec",
   "metadata": {},
   "source": [
    "### 示例5-5"
   ]
  },
  {
   "cell_type": "code",
   "execution_count": null,
   "id": "c78e407b",
   "metadata": {},
   "outputs": [],
   "source": [
    "import math\n",
    "from pyproj import Transformer\n",
    "p1_xy = 120,30\n",
    "p2_xy = 121,30\n",
    "#WGS84地理坐标转web墨卡托投影\n",
    "transformer = Transformer.from_crs(4326, 3857,always_xy=True)\n",
    "p1 = transformer.transform(p1_xy[0],p1_xy[1])\n",
    "p2 = transformer.transform(p2_xy[0],p2_xy[1])\n",
    "d_w = int(math.sqrt((p1[0]-p2[0])**2 + (p1[1]-p2[1])**2))\n",
    "print(f\"web墨卡托投影长度：{d_w}米\")\n",
    "#WGS84地理坐标转高斯—克吕格投影\n",
    "transformer = Transformer.from_crs(4326, 2346,always_xy=True)\n",
    "p1 = transformer.transform(p1_xy[0],p1_xy[1])\n",
    "p2 = transformer.transform(p2_xy[0],p2_xy[1])\n",
    "d_g = int(math.sqrt((p1[0]-p2[0])**2 + (p1[1]-p2[1])**2))\n",
    "print(f\"高斯—克吕格投影长度：{d_g}米\")\n",
    "print(f\"长度误差：{(d_w - d_g)/d_g*100:.4}%\")"
   ]
  },
  {
   "cell_type": "markdown",
   "id": "5e2a158c",
   "metadata": {},
   "source": [
    "### 示例5-6"
   ]
  },
  {
   "cell_type": "code",
   "execution_count": null,
   "id": "8a089470",
   "metadata": {},
   "outputs": [],
   "source": [
    "from pyproj import Transformer\n",
    "crs = \"+proj=merc +a=6378137 +b=6378137 +units=km\"\n",
    "transformer = Transformer.from_crs(4326,crs,always_xy=True)\n",
    "x_coords = [116.37,121.53,113.25]\n",
    "y_coords = [39.92,31.26,23.13]\n",
    "newx_coords,newy_coords = transformer.transform(x_coords, y_coords)\n",
    "print(newx_coords)\n",
    "print(newy_coords)"
   ]
  },
  {
   "cell_type": "markdown",
   "id": "aa56544c",
   "metadata": {},
   "source": [
    "### 示例5-7"
   ]
  },
  {
   "cell_type": "code",
   "execution_count": null,
   "id": "2fa2de8b",
   "metadata": {},
   "outputs": [],
   "source": [
    "from pyproj import Transformer\n",
    "crs = \"+proj=tmerc +lon_0=120 +lat_0=30\"   #设置坐标原点为东经120度、北纬30度\n",
    "transformer = Transformer.from_crs(4326, crs,always_xy=True)\n",
    "points = [(116.37,39.92),(121.53,31.26),(113.25,23.13)]\n",
    "for pt in transformer.itransform(points):\n",
    "    print(pt)"
   ]
  },
  {
   "cell_type": "markdown",
   "id": "438e6166",
   "metadata": {},
   "source": [
    "### 示例5-7"
   ]
  },
  {
   "cell_type": "code",
   "execution_count": null,
   "id": "feaa01f2",
   "metadata": {},
   "outputs": [],
   "source": [
    "from pyproj import Transformer\n",
    "crs = \"+proj=aea +lat_1=25 +lat_2=47 +lat_0=30 +lon_0=105\"\n",
    "transformer = Transformer.from_crs(4326, crs,always_xy=True)\n",
    "bound1 = transformer.transform_bounds(70,0,140,60,densify_pts=0)\n",
    "bound2 = transformer.transform_bounds(70,0,140,60,densify_pts=21)\n",
    "print(bound1)\n",
    "print(bound2)"
   ]
  }
 ],
 "metadata": {
  "kernelspec": {
   "display_name": "Python 3",
   "language": "python",
   "name": "python3"
  },
  "language_info": {
   "codemirror_mode": {
    "name": "ipython",
    "version": 3
   },
   "file_extension": ".py",
   "mimetype": "text/x-python",
   "name": "python",
   "nbconvert_exporter": "python",
   "pygments_lexer": "ipython3",
   "version": "3.8.8"
  }
 },
 "nbformat": 4,
 "nbformat_minor": 5
}
