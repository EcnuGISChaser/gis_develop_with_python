{
 "cells": [
  {
   "cell_type": "markdown",
   "id": "afac7326",
   "metadata": {},
   "source": [
    "### 示例3-1"
   ]
  },
  {
   "cell_type": "code",
   "execution_count": null,
   "id": "b554418a",
   "metadata": {},
   "outputs": [],
   "source": [
    "import requests\n",
    "import pprint\n",
    "url = \"https://restapi.amap.com/v3/weather/weatherInfo?\"\n",
    "city = 310112\n",
    "key= \"申请的密钥\"\n",
    "parameters = f\"city={city}&key={key}\"\n",
    "response = requests.get(url + parameters)\n",
    "result = response.json()\n",
    "pprint.pprint(result)"
   ]
  },
  {
   "cell_type": "markdown",
   "id": "c593bbfb",
   "metadata": {},
   "source": [
    "### 示例3-2"
   ]
  },
  {
   "cell_type": "code",
   "execution_count": null,
   "id": "80554259",
   "metadata": {},
   "outputs": [],
   "source": [
    "from owslib.wms import WebMapService\n",
    "import pprint\n",
    "wms_url = \"https://ows.terrestris.de/osm/service\"\n",
    "wms = WebMapService(wms_url, version=\"1.3.0\")\n",
    "print(f\"WMS title: {wms.identification.title}\")\n",
    "print(f\"WMS abstract: {wms.identification.abstract}\")\n",
    "print(f\"Provider name: {wms.provider.name}\")\n",
    "print(\"wms contents:\")\n",
    "pprint.pprint(list(wms.contents))"
   ]
  },
  {
   "cell_type": "markdown",
   "id": "7da82bb6",
   "metadata": {},
   "source": [
    "### 示例3-3"
   ]
  },
  {
   "cell_type": "code",
   "execution_count": null,
   "id": "58c4d4f0",
   "metadata": {},
   "outputs": [],
   "source": [
    "import requests\n",
    "import pprint\n",
    "url = \"https://sampleserver5.arcgisonline.com/arcgis/rest/services/Elevation/\\\n",
    "WorldElevations/MapServer/identify?\"\n",
    "parameters = \"geometry=119.4238,30.3493&geometryType=esriGeometryPoint&sr=4326&\\\n",
    "tolerance=1&mapExtent=118,29,120,31\\&imageDisplay=600,550,96&f=json\"\n",
    "response = requests.get(url + parameters)\n",
    "json_data = response.json()\n",
    "pprint.pprint(json_data)\n",
    "elevation = json_data['results'][0][\"attributes\"]['Pixel Value']\n",
    "print(f\"该点高程:{elevation}米\")"
   ]
  },
  {
   "cell_type": "markdown",
   "id": "fca2376a",
   "metadata": {},
   "source": [
    "### 示例3-4"
   ]
  },
  {
   "cell_type": "code",
   "execution_count": null,
   "id": "133e7b78",
   "metadata": {},
   "outputs": [],
   "source": [
    "from math import *\n",
    "import requests\n",
    "for z in [14,15]:\n",
    "    lng = 121.39\n",
    "    lat = 31.23\n",
    "    r = 20037508.34\n",
    "    x = lng*r/180 \n",
    "    y = log(tan(pi/4+lat*pi/360))*(r/pi)  \n",
    "    d = 40075014/(2**int(z))\n",
    "    row = int((20037507-y)/d)\n",
    "    col = int((x-(-20037507))/d)\n",
    "    url = f\"https://a.tile.openstreetmap.org/{z}/{col}/{row}.png\"\n",
    "    response = requests.get(url)\n",
    "    f = open(f\"c:/data/tmp/{z}_{col}_{row}.png\", \"wb\")\n",
    "    f.write(response.content)\n",
    "f.close()"
   ]
  },
  {
   "cell_type": "markdown",
   "id": "4dd6dfc7",
   "metadata": {},
   "source": [
    "### 示例3-4（添加world文件）"
   ]
  },
  {
   "cell_type": "code",
   "execution_count": null,
   "id": "e188cca9",
   "metadata": {},
   "outputs": [],
   "source": [
    "LU_y = 20037507 - (d*row)\n",
    "LU_x = (d*col) - 20037507\n",
    "x_resolution = d/256\n",
    "y_resolution = d/256\n",
    "text = f\"{x_resolution}\\n0\\n0\\n-{y_resolution}\\n{LU_x}\\n{LU_y}\"\n",
    "f = open(f\"c:/data/tmp/{z}_{col}_{row}.pngw\", \"w\")\n",
    "f.write(text)\n",
    "f.close()"
   ]
  },
  {
   "cell_type": "markdown",
   "id": "ecca460e",
   "metadata": {},
   "source": [
    "### 示例3-5"
   ]
  },
  {
   "cell_type": "code",
   "execution_count": null,
   "id": "1102fd24",
   "metadata": {},
   "outputs": [],
   "source": [
    "from owslib.wfs import WebFeatureService\n",
    "wfs_url = \"https://demo.gatewaygeomatics.com/cgi-bin/wfs_gateway\"\n",
    "wfs = WebFeatureService(wfs_url,version='2.0.0')\n",
    "response = wfs.getfeature(typename='ms:park')\n",
    "out = open(r'c:\\data\\tmp\\park.gml', 'wb')\n",
    "out.write(bytes(response.read()))\n",
    "out.close()"
   ]
  },
  {
   "cell_type": "markdown",
   "id": "4efac20d",
   "metadata": {},
   "source": [
    "### 示例3-6"
   ]
  },
  {
   "cell_type": "code",
   "execution_count": null,
   "id": "ccdc54b2",
   "metadata": {},
   "outputs": [],
   "source": [
    "import time\n",
    "import requests\n",
    "from geojson import dump\n",
    "#定义时间范围，Feature Service中的time参数值是时间戳\n",
    "str_time1 = '2005-01-01 00:00:00'\n",
    "struct_time1 = time.strptime(str_time1, '%Y-%m-%d %H:%M:%S')\n",
    "time_stamp1 = int(time.mktime(struct_time1))*1000\n",
    "str_time2 = '2007-01-01 00:00:00'\n",
    "struct_time2 = time.strptime(str_time2, '%Y-%m-%d %H:%M:%S')\n",
    "time_stamp2 = int(time.mktime(struct_time2))*1000\n",
    "\n",
    "url = \"https://sampleserver5.arcgisonline.com/arcgis/rest/services/\\\n",
    "Earthquakes_Since1970/FeatureServer/0/query?\"\n",
    "parameters = f\"geometry=-180,-90,180,90&geometryType=esriGeometryEnvelope\\\n",
    "&spatialRel=esriSpatialRelIntersects&outFields=*&time={time_stamp1},{time_stamp2}&f=json\"\n",
    "response = requests.get(url + parameters)\n",
    "json_data = response.json()\n",
    "output_file = open(r\"c:\\data\\tmp\\Earthquakes.json\",\"w\")\n",
    "dump(json_data,output_file)\n",
    "output_file.close()"
   ]
  },
  {
   "cell_type": "markdown",
   "id": "24db4bfc",
   "metadata": {},
   "source": [
    "### 示例3-7"
   ]
  },
  {
   "cell_type": "code",
   "execution_count": null,
   "id": "422b56aa",
   "metadata": {},
   "outputs": [],
   "source": [
    "import requests\n",
    "from pprint import pprint\n",
    "url = \"https://landsat2.arcgis.com/arcgis/rest/services/Landsat8_PanSharpened/\\\n",
    "ImageServer/exportImage?\"\n",
    "parameters = \"bbox==13510000,3634000,13521000,3644000&bboxSR=3857\\\n",
    "&imageSR=3857&size=1000,1000&f=image\"\n",
    "response = requests.get(url + parameters)\n",
    "f = open(r\"c:\\data\\tmp\\output.tif\", \"wb\")\n",
    "f.write(response.content)\n",
    "f.close()"
   ]
  },
  {
   "cell_type": "markdown",
   "id": "095ff459",
   "metadata": {},
   "source": [
    "### 示例3-8"
   ]
  },
  {
   "cell_type": "code",
   "execution_count": null,
   "id": "24c74f5c",
   "metadata": {},
   "outputs": [],
   "source": [
    "import requests\n",
    "from pprint import pprint\n",
    "url =\"https://sampleserver5.arcgisonline.com/arcgis/rest/services/\\\n",
    "Elevation/ESRI_Elevation_World/GPServer/Viewshed/execute?\"\n",
    "point = {\"features\":[{\"geometry\":{\"x\":120,\"y\":40}}]}\n",
    "distance = {\"distance\": 5000, \"units\": \"esriMeters\"}\n",
    "parameters = f\"Input_Observation_Point={point}&Viewshed_Distance={distance}&f=json\"\n",
    "response = requests.get(url + parameters)\n",
    "json_data = response.json()\n",
    "pprint(json_data)"
   ]
  }
 ],
 "metadata": {
  "kernelspec": {
   "display_name": "Python 3",
   "language": "python",
   "name": "python3"
  },
  "language_info": {
   "codemirror_mode": {
    "name": "ipython",
    "version": 3
   },
   "file_extension": ".py",
   "mimetype": "text/x-python",
   "name": "python",
   "nbconvert_exporter": "python",
   "pygments_lexer": "ipython3",
   "version": "3.8.8"
  }
 },
 "nbformat": 4,
 "nbformat_minor": 5
}
