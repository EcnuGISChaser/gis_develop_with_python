{
 "cells": [
  {
   "cell_type": "markdown",
   "id": "b6b68458",
   "metadata": {},
   "source": [
    "### 示例4-1"
   ]
  },
  {
   "cell_type": "code",
   "execution_count": null,
   "id": "ada725ac",
   "metadata": {},
   "outputs": [],
   "source": [
    "import requests\n",
    "url=\"https://ecnugischaser.github.io/gis_develop_with_python/demo/html_encoding\"\n",
    "response = requests.get(url)\n",
    "print(f\"缺省的编码：{response.encoding}\")\n",
    "print(\"缺省编码显示的HTML文档：\")\n",
    "print(response.text)\n",
    "print(f\"分析出的编码：{response.apparent_encoding}\")\n",
    "response.encoding = response.apparent_encoding\n",
    "print(\"按分析出编码显示的HTML文档：\")\n",
    "print(response.text)"
   ]
  },
  {
   "cell_type": "markdown",
   "id": "5eb57827",
   "metadata": {},
   "source": [
    "### 示例4-2"
   ]
  },
  {
   "cell_type": "code",
   "execution_count": null,
   "id": "cf1ccf81",
   "metadata": {},
   "outputs": [],
   "source": [
    "import requests\n",
    "response = requests.get('https://baike.baidu.com/item/北京')\n",
    "response.encoding = response.apparent_encoding\n",
    "print(\"没有模拟设置User-Agent的返回结果：\")\n",
    "print(response.text)\n",
    "\n",
    "import requests\n",
    "user_agent = 'Mozilla/5.0 (Windows NT 10.0; Win64; x64) AppleWebKit/537.36 \\\n",
    "(KHTML, like Gecko) Chrome/99.0.4844.74 Safari/537.36'\n",
    "headers = {'User-Agent': user_agent}\n",
    "response = requests.get('https://baike.baidu.com/item/北京',headers=headers)\n",
    "response.encoding = response.apparent_encoding\n",
    "print(\"模拟设置User-Agent的返回结果：\")\n",
    "print(response.text)"
   ]
  },
  {
   "cell_type": "markdown",
   "id": "5567b8b7",
   "metadata": {},
   "source": [
    "### 示例4-3"
   ]
  },
  {
   "cell_type": "code",
   "execution_count": null,
   "id": "a2aecbb5",
   "metadata": {},
   "outputs": [],
   "source": [
    "import requests\n",
    "response = requests.get('http://www.cnemc.cn/sssj/')\n",
    "response.encoding = response.apparent_encoding\n",
    "print(\"静态网页抓取方法返回的文档：\")\n",
    "print(response.text)\n",
    "\n",
    "from selenium import webdriver\n",
    "import time\n",
    "driver = webdriver.Firefox(executable_path = r'c:\\Anaconda\\Scripts\\geckodriver.exe')\n",
    "driver.get(\"http://www.cnemc.cn/sssj/\")\n",
    "time.sleep(3)\n",
    "print(\"动态网页抓取方法返回的文档：\")\n",
    "print(driver.page_source)\n",
    "driver.close()"
   ]
  },
  {
   "cell_type": "markdown",
   "id": "f770fbb0",
   "metadata": {},
   "source": [
    "### 示例4-4"
   ]
  },
  {
   "cell_type": "code",
   "execution_count": null,
   "id": "41c44576",
   "metadata": {},
   "outputs": [],
   "source": [
    "html_doc =\"\"\"\n",
    "<html>\n",
    "  <head>\n",
    "    <title>HTML文档示例</title>\n",
    "  </head>\n",
    "  <body>\n",
    "    <h1>华东师范大学</h1>\n",
    "    <img src=\"photo1.jpg\" id=\"a\">\n",
    "    <div>\n",
    "      <img src=\"photo2.jpg\" id=\"b\">\n",
    "    </div>\n",
    "  </body>\n",
    "</html>\n",
    "\"\"\"\n",
    "from bs4 import BeautifulSoup\n",
    "soup = BeautifulSoup(html_doc,\"lxml\")\n",
    "print(\"第一个img标签\")\n",
    "print(soup.img)\n",
    "print(\"div标签中的第一个img标签\")\n",
    "print(soup.div.img)\n",
    "print(\"所有img标签\")\n",
    "print(soup.find_all(\"img\"))\n",
    "print(\"id为a的img标签\")\n",
    "print(soup.find_all(id=\"a\"))"
   ]
  },
  {
   "cell_type": "markdown",
   "id": "4ed86dd3",
   "metadata": {},
   "source": [
    "### 示例4-5"
   ]
  },
  {
   "cell_type": "code",
   "execution_count": null,
   "id": "dd1d3cb1",
   "metadata": {},
   "outputs": [],
   "source": [
    "import requests\n",
    "from bs4 import BeautifulSoup\n",
    "import pandas as pd\n",
    "\n",
    "user_agent = 'Mozilla/5.0 (Windows NT 10.0; WOW64; Trident/7.0; rv:11.0) like Gecko'\n",
    "headers = {'User-Agent': user_agent}\n",
    "url = 'https://baike.baidu.com/item/北京'\n",
    "r = requests.get(url,headers=headers)\n",
    "soup = BeautifulSoup(r.text,\"lxml\")\n",
    "basic_info = soup.find(class_=\"basic-info J-basic-info cmn-clearfix\")\n",
    "dts = basic_info.find_all(\"dt\")\n",
    "item_name_list = []\n",
    "for dt in dts:\n",
    "    item_name = dt.get_text().strip(\"\\n\")\n",
    "    item_name_list.append(item_name)\n",
    "\n",
    "dds = basic_info.find_all(\"dd\")\n",
    "item_value_list = []\n",
    "for dd in dds:\n",
    "    item_value = dd.get_text().strip(\"\\n\")\n",
    "    item_value_list.append(item_value)\n",
    "    \n",
    "frame = pd.DataFrame()\n",
    "frame[\"item_name\"] = item_name_list\n",
    "frame[\"item_value\"] = item_value_list\n",
    "frame"
   ]
  },
  {
   "cell_type": "markdown",
   "id": "68234f21",
   "metadata": {},
   "source": [
    "### 示例4-6"
   ]
  },
  {
   "cell_type": "code",
   "execution_count": null,
   "id": "1ea77424",
   "metadata": {},
   "outputs": [],
   "source": [
    "from selenium import webdriver\n",
    "import time\n",
    "driver = webdriver.Firefox(executable_path = r'c:\\Anaconda\\Scripts\\geckodriver.exe')\n",
    "driver.get('http://pythonscraping.com/pages/files/form.html')\n",
    "firstnameField = driver.find_element_by_name(\"firstname\")\n",
    "lastnameField = driver.find_element_by_name(\"lastname\")\n",
    "submitButton = driver.find_element_by_id(\"submit\")\n",
    "\n",
    "firstnameField.send_keys(\"小明\")\n",
    "lastnameField.send_keys(\"张\")\n",
    "submitButton.click()\n",
    "time.sleep(2)\n",
    "print(driver.find_element_by_tag_name(\"body\").text)\n",
    "driver.close()"
   ]
  },
  {
   "cell_type": "markdown",
   "id": "c425f8a7",
   "metadata": {},
   "source": [
    "### 示例4-7"
   ]
  },
  {
   "cell_type": "code",
   "execution_count": null,
   "id": "b43aede7",
   "metadata": {},
   "outputs": [],
   "source": [
    "from selenium import webdriver\n",
    "driver = webdriver.Firefox(executable_path = r'c:\\Anaconda\\Scripts\\geckodriver.exe')\n",
    "driver.get('http://www.cnemc.cn/sssj/')\n",
    "\n",
    "import time\n",
    "time.sleep(2)\n",
    "a = driver.find_element_by_css_selector(\"div#cityAirDailyScroll\")\n",
    "elements = a.find_elements_by_tag_name(\"li\")\n",
    "for element in elements:\n",
    "    element.click()\n",
    "    cityAirDaily = element.text.split(\"\\n\")\n",
    "    print(cityAirDaily)\n",
    "driver.close()"
   ]
  },
  {
   "cell_type": "markdown",
   "id": "7e3c4799",
   "metadata": {},
   "source": [
    "### 示例4-8"
   ]
  },
  {
   "cell_type": "code",
   "execution_count": null,
   "id": "6a9d9d0f",
   "metadata": {},
   "outputs": [],
   "source": [
    "from selenium import webdriver\n",
    "import pandas as pd\n",
    "driver = webdriver.Firefox(executable_path = r'c:\\Anaconda\\Scripts\\geckodriver.exe')\n",
    "driver.get(\"http://www.ceic.ac.cn\")\n",
    "frame_list = pd.read_html(driver.page_source)\n",
    "driver.close()\n",
    "frame_list[0]"
   ]
  }
 ],
 "metadata": {
  "kernelspec": {
   "display_name": "Python 3",
   "language": "python",
   "name": "python3"
  },
  "language_info": {
   "codemirror_mode": {
    "name": "ipython",
    "version": 3
   },
   "file_extension": ".py",
   "mimetype": "text/x-python",
   "name": "python",
   "nbconvert_exporter": "python",
   "pygments_lexer": "ipython3",
   "version": "3.8.8"
  }
 },
 "nbformat": 4,
 "nbformat_minor": 5
}
